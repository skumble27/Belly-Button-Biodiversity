{
  "nbformat": 4,
  "nbformat_minor": 0,
  "metadata": {
    "colab": {
      "name": "image_classification_tut.ipynb",
      "provenance": [],
      "collapsed_sections": [],
      "authorship_tag": "ABX9TyNiwCbKTYo3zhl8ZE4tYRPY",
      "include_colab_link": true
    },
    "kernelspec": {
      "name": "python3",
      "display_name": "Python 3"
    }
  },
  "cells": [
    {
      "cell_type": "markdown",
      "metadata": {
        "id": "view-in-github",
        "colab_type": "text"
      },
      "source": [
        "<a href=\"https://colab.research.google.com/github/skumble27/Belly-Button-Biodiversity/blob/main/image_classification_tut.ipynb\" target=\"_parent\"><img src=\"https://colab.research.google.com/assets/colab-badge.svg\" alt=\"Open In Colab\"/></a>"
      ]
    },
    {
      "cell_type": "code",
      "metadata": {
        "id": "_Ya-XExHgSE3"
      },
      "source": [
        "# Import the libraries required for this tutoria\r\n",
        "import tensorflow as tf\r\n",
        "from tensorflow import keras\r\n",
        "from keras.models import Sequential\r\n",
        "from keras.layers import Dense, Flatten, Conv2D, MaxPooling2D, Dropout\r\n",
        "from tensorflow.keras import layers\r\n",
        "from keras.utils import to_categorical\r\n",
        "import numpy as np\r\n",
        "import matplotlib.pyplot as plt\r\n",
        "plt.style.use('fivethirtyeight')\r\n"
      ],
      "execution_count": 3,
      "outputs": []
    },
    {
      "cell_type": "code",
      "metadata": {
        "colab": {
          "base_uri": "https://localhost:8080/"
        },
        "id": "BybiuxfthCV2",
        "outputId": "a8b5e357-de20-4f44-b77a-a9fc5f6c9499"
      },
      "source": [
        "# Load the data \r\n",
        "from keras.datasets import cifar10\r\n",
        "# Creating a tuple\r\n",
        "(x_train, y_train), (x_test, y_test) = cifar10.load_data()"
      ],
      "execution_count": 4,
      "outputs": [
        {
          "output_type": "stream",
          "text": [
            "Downloading data from https://www.cs.toronto.edu/~kriz/cifar-10-python.tar.gz\n",
            "170500096/170498071 [==============================] - 6s 0us/step\n"
          ],
          "name": "stdout"
        }
      ]
    },
    {
      "cell_type": "code",
      "metadata": {
        "colab": {
          "base_uri": "https://localhost:8080/"
        },
        "id": "gam3AvK_hH8G",
        "outputId": "77526d1f-2f75-4f3e-b08b-45df9b24432c"
      },
      "source": [
        "# Look at the data types of the variables\r\n",
        "print(type(x_train))\r\n",
        "print(type(x_test))\r\n",
        "print(type(y_train))\r\n",
        "print(type(y_test))"
      ],
      "execution_count": 5,
      "outputs": [
        {
          "output_type": "stream",
          "text": [
            "<class 'numpy.ndarray'>\n",
            "<class 'numpy.ndarray'>\n",
            "<class 'numpy.ndarray'>\n",
            "<class 'numpy.ndarray'>\n"
          ],
          "name": "stdout"
        }
      ]
    },
    {
      "cell_type": "code",
      "metadata": {
        "id": "-mwGbfN0htgU"
      },
      "source": [
        "print('X_train shape:' x_train.shape)"
      ],
      "execution_count": null,
      "outputs": []
    }
  ]
}